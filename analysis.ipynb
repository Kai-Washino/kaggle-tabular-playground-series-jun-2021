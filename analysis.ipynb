{
 "cells": [
  {
   "cell_type": "code",
   "execution_count": 1,
   "id": "cb74ca02",
   "metadata": {},
   "outputs": [],
   "source": [
    "import pandas as pd\n",
    "import numpy as np\n",
    " \n",
    "train = pd.read_csv(\"train.csv\")\n",
    "test = pd.read_csv(\"test.csv\")"
   ]
  },
  {
   "cell_type": "code",
   "execution_count": 2,
   "id": "2d450f8f",
   "metadata": {},
   "outputs": [
    {
     "name": "stdout",
     "output_type": "stream",
     "text": [
      "(200000, 77)\n",
      "(100000, 76)\n"
     ]
    }
   ],
   "source": [
    "print(train.shape)\n",
    "print(test.shape)"
   ]
  },
  {
   "cell_type": "code",
   "execution_count": 3,
   "id": "7ad41b07",
   "metadata": {},
   "outputs": [
    {
     "name": "stdout",
     "output_type": "stream",
     "text": [
      "Index(['id', 'feature_0', 'feature_1', 'feature_2', 'feature_3', 'feature_4',\n",
      "       'feature_5', 'feature_6', 'feature_7', 'feature_8', 'feature_9',\n",
      "       'feature_10', 'feature_11', 'feature_12', 'feature_13', 'feature_14',\n",
      "       'feature_15', 'feature_16', 'feature_17', 'feature_18', 'feature_19',\n",
      "       'feature_20', 'feature_21', 'feature_22', 'feature_23', 'feature_24',\n",
      "       'feature_25', 'feature_26', 'feature_27', 'feature_28', 'feature_29',\n",
      "       'feature_30', 'feature_31', 'feature_32', 'feature_33', 'feature_34',\n",
      "       'feature_35', 'feature_36', 'feature_37', 'feature_38', 'feature_39',\n",
      "       'feature_40', 'feature_41', 'feature_42', 'feature_43', 'feature_44',\n",
      "       'feature_45', 'feature_46', 'feature_47', 'feature_48', 'feature_49',\n",
      "       'feature_50', 'feature_51', 'feature_52', 'feature_53', 'feature_54',\n",
      "       'feature_55', 'feature_56', 'feature_57', 'feature_58', 'feature_59',\n",
      "       'feature_60', 'feature_61', 'feature_62', 'feature_63', 'feature_64',\n",
      "       'feature_65', 'feature_66', 'feature_67', 'feature_68', 'feature_69',\n",
      "       'feature_70', 'feature_71', 'feature_72', 'feature_73', 'feature_74',\n",
      "       'target'],\n",
      "      dtype='object')\n"
     ]
    }
   ],
   "source": [
    "print(train.columns)"
   ]
  },
  {
   "cell_type": "code",
   "execution_count": 9,
   "id": "c7b96642",
   "metadata": {},
   "outputs": [],
   "source": [
    "y_train = train.pop('target').values\n",
    "train.pop('id')\n",
    "\n",
    "answer = test.pop('id')"
   ]
  },
  {
   "cell_type": "code",
   "execution_count": 16,
   "id": "c769f006",
   "metadata": {},
   "outputs": [
    {
     "name": "stdout",
     "output_type": "stream",
     "text": [
      "[6 6 2 ... 8 7 8]\n"
     ]
    }
   ],
   "source": [
    "print(y_train)"
   ]
  },
  {
   "cell_type": "code",
   "execution_count": 15,
   "id": "3bafd727",
   "metadata": {},
   "outputs": [],
   "source": [
    "mapping = {\n",
    "    'Class_1': 1, 'Class_2': 2, 'Class_3': 3, 'Class_4': 4,\n",
    "    'Class_5': 5, 'Class_6': 6, 'Class_7': 7, 'Class_8': 8, 'Class_9': 9\n",
    "}\n",
    "def map_values(x):\n",
    "    return mapping[x]\n",
    "\n",
    "vectorized_map = np.vectorize(map_values)\n",
    "y_train = vectorized_map(y_train)"
   ]
  },
  {
   "cell_type": "code",
   "execution_count": 17,
   "id": "ab674f9f",
   "metadata": {},
   "outputs": [
    {
     "name": "stdout",
     "output_type": "stream",
     "text": [
      "0\n",
      "0\n"
     ]
    }
   ],
   "source": [
    "print(test.isna().sum().sum())\n",
    "print(train.isna().sum().sum())"
   ]
  },
  {
   "cell_type": "code",
   "execution_count": 18,
   "id": "a6f13ac4",
   "metadata": {},
   "outputs": [
    {
     "data": {
      "text/plain": [
       "RandomForestClassifier(random_state=42)"
      ]
     },
     "execution_count": 18,
     "metadata": {},
     "output_type": "execute_result"
    }
   ],
   "source": [
    "from sklearn.ensemble import RandomForestClassifier\n",
    "model = RandomForestClassifier(n_estimators=100, random_state=42)\n",
    "model.fit(train, y_train)"
   ]
  },
  {
   "cell_type": "code",
   "execution_count": 24,
   "id": "e103c7b0",
   "metadata": {},
   "outputs": [],
   "source": [
    "y_pred = model.predict_proba(test)"
   ]
  },
  {
   "cell_type": "code",
   "execution_count": 64,
   "id": "25d8d214",
   "metadata": {},
   "outputs": [
    {
     "name": "stdout",
     "output_type": "stream",
     "text": [
      "[0.5505 0.1    0.08   ... 0.34   0.06   0.17  ]\n",
      "0\n",
      "Class_1\n",
      "1\n",
      "Class_2\n",
      "2\n",
      "Class_3\n",
      "3\n",
      "Class_4\n",
      "4\n",
      "Class_5\n",
      "5\n",
      "Class_6\n",
      "6\n",
      "Class_7\n",
      "7\n",
      "Class_8\n",
      "8\n",
      "Class_9\n",
      "dict_keys(['Class_1', 'Class_2', 'Class_3', 'Class_4', 'Class_5', 'Class_6', 'Class_7', 'Class_8', 'Class_9'])\n"
     ]
    }
   ],
   "source": [
    "print(y_pred[:, 1])\n",
    "for index, key in enumerate(mapping):\n",
    "    print(index)\n",
    "    print(key)"
   ]
  },
  {
   "cell_type": "code",
   "execution_count": 20,
   "id": "c2984ca6",
   "metadata": {},
   "outputs": [],
   "source": [
    "answer = answer.to_frame()"
   ]
  },
  {
   "cell_type": "code",
   "execution_count": 65,
   "id": "d893a578",
   "metadata": {},
   "outputs": [
    {
     "name": "stdout",
     "output_type": "stream",
     "text": [
      "           id  Class_1\n",
      "0      200000     0.04\n",
      "1      200001     0.02\n",
      "2      200002     0.04\n",
      "3      200003     0.06\n",
      "4      200004     0.05\n",
      "...       ...      ...\n",
      "99995  299995     0.12\n",
      "99996  299996     0.05\n",
      "99997  299997     0.04\n",
      "99998  299998     0.07\n",
      "99999  299999     0.06\n",
      "\n",
      "[100000 rows x 2 columns]\n"
     ]
    }
   ],
   "source": [
    "for index, key in enumerate(mapping):\n",
    "    answer[key] = y_pred[:, index]"
   ]
  },
  {
   "cell_type": "code",
   "execution_count": 66,
   "id": "1ef012fe",
   "metadata": {},
   "outputs": [
    {
     "name": "stdout",
     "output_type": "stream",
     "text": [
      "           id  Class_1  Class_2  Class_3  Class_4  Class_5  Class_6  Class_7  \\\n",
      "0      200000     0.04   0.5505   0.1895     0.00     0.00     0.14     0.01   \n",
      "1      200001     0.02   0.1000   0.1300     0.01     0.00     0.25     0.04   \n",
      "2      200002     0.04   0.0800   0.0200     0.01     0.01     0.59     0.05   \n",
      "3      200003     0.06   0.0800   0.1400     0.02     0.01     0.21     0.06   \n",
      "4      200004     0.05   0.1600   0.0600     0.01     0.01     0.32     0.11   \n",
      "...       ...      ...      ...      ...      ...      ...      ...      ...   \n",
      "99995  299995     0.12   0.3400   0.1200     0.01     0.02     0.09     0.02   \n",
      "99996  299996     0.05   0.2600   0.0700     0.03     0.01     0.21     0.02   \n",
      "99997  299997     0.04   0.3400   0.1600     0.00     0.00     0.14     0.04   \n",
      "99998  299998     0.07   0.0600   0.0300     0.02     0.02     0.31     0.06   \n",
      "99999  299999     0.06   0.1700   0.0700     0.02     0.01     0.28     0.05   \n",
      "\n",
      "       Class_8  Class_9  \n",
      "0         0.01     0.06  \n",
      "1         0.24     0.21  \n",
      "2         0.13     0.07  \n",
      "3         0.22     0.20  \n",
      "4         0.21     0.07  \n",
      "...        ...      ...  \n",
      "99995     0.08     0.20  \n",
      "99996     0.14     0.21  \n",
      "99997     0.11     0.17  \n",
      "99998     0.34     0.09  \n",
      "99999     0.22     0.12  \n",
      "\n",
      "[100000 rows x 10 columns]\n"
     ]
    }
   ],
   "source": [
    "print(answer)"
   ]
  },
  {
   "cell_type": "code",
   "execution_count": 67,
   "id": "1bcca90b",
   "metadata": {},
   "outputs": [],
   "source": [
    "answer.to_csv('output1.csv', index=False)"
   ]
  },
  {
   "cell_type": "code",
   "execution_count": null,
   "id": "1075389f",
   "metadata": {},
   "outputs": [],
   "source": []
  }
 ],
 "metadata": {
  "kernelspec": {
   "display_name": "Python 3",
   "language": "python",
   "name": "python3"
  },
  "language_info": {
   "codemirror_mode": {
    "name": "ipython",
    "version": 3
   },
   "file_extension": ".py",
   "mimetype": "text/x-python",
   "name": "python",
   "nbconvert_exporter": "python",
   "pygments_lexer": "ipython3",
   "version": "3.8.8"
  }
 },
 "nbformat": 4,
 "nbformat_minor": 5
}
